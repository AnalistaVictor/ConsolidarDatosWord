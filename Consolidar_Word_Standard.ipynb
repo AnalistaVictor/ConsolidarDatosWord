{
 "cells": [
  {
   "cell_type": "code",
   "execution_count": null,
   "metadata": {
    "colab": {
     "base_uri": "https://localhost:8080/"
    },
    "executionInfo": {
     "elapsed": 6520,
     "status": "ok",
     "timestamp": 1624044798948,
     "user": {
      "displayName": "VICTOR ORLANDO VALENZUELA ERAZO",
      "photoUrl": "",
      "userId": "18189953888724504303"
     },
     "user_tz": 300
    },
    "id": "iTLrqCg5Q9xQ",
    "outputId": "4c2c2a9b-a1a8-4176-f940-33f735d931ad"
   },
   "outputs": [],
   "source": [
    "pip install python-docx"
   ]
  },
  {
   "cell_type": "code",
   "execution_count": null,
   "metadata": {
    "colab": {
     "base_uri": "https://localhost:8080/"
    },
    "executionInfo": {
     "elapsed": 4262,
     "status": "ok",
     "timestamp": 1624044803206,
     "user": {
      "displayName": "VICTOR ORLANDO VALENZUELA ERAZO",
      "photoUrl": "",
      "userId": "18189953888724504303"
     },
     "user_tz": 300
    },
    "id": "UfXosZhfjV6e",
    "outputId": "913a0a80-9d22-42b7-bfdf-0c1cc22689bd"
   },
   "outputs": [],
   "source": [
    "pip install docxcompose"
   ]
  },
  {
   "cell_type": "code",
   "execution_count": null,
   "metadata": {
    "colab": {
     "base_uri": "https://localhost:8080/"
    },
    "executionInfo": {
     "elapsed": 4163,
     "status": "ok",
     "timestamp": 1624044807367,
     "user": {
      "displayName": "VICTOR ORLANDO VALENZUELA ERAZO",
      "photoUrl": "",
      "userId": "18189953888724504303"
     },
     "user_tz": 300
    },
    "id": "3PI5uY2TjXzQ",
    "outputId": "9d9539a9-d6c8-469e-a18e-54a214d6de9f"
   },
   "outputs": [],
   "source": [
    "pip install docx"
   ]
  },
  {
   "cell_type": "code",
   "execution_count": null,
   "metadata": {},
   "outputs": [],
   "source": [
    "import docx\n",
    "doc = docx.Document()\n",
    "doc.save(\"C:/Users/vicor/OneDrive/Escritorio/Archivos/Word_Solicitud/\"+\"Blanco.docx\")"
   ]
  },
  {
   "cell_type": "code",
   "execution_count": null,
   "metadata": {
    "id": "nrN0SQiXjcQy"
   },
   "outputs": [],
   "source": [
    "ArchivoWordBlanco=\"C:/Users/vicor/OneDrive/Escritorio/Archivos/Word_Solicitud/Blanco.docx\" \n",
    "Archivos=\"C:/Users/vicor/OneDrive/Escritorio/Archivos/Word_Solicitud\" \n",
    "ArchivoWordConsolidado=\"C:/Users/vicor/OneDrive/Escritorio/Archivos/Word_Consolidado\" \n",
    "ArchivosExcel=\"C:/Users/vicor/OneDrive/Escritorio/Archivos/Excel_Convertidos\" \n",
    "ArchivoExcelFinal=\"C:/Users/vicor/OneDrive/Escritorio/Archivos/Excel_Final\" "
   ]
  },
  {
   "cell_type": "code",
   "execution_count": null,
   "metadata": {
    "id": "Ksv_piGmjfiY"
   },
   "outputs": [],
   "source": [
    "from docxcompose.composer import Composer\n",
    "from docx import Document\n",
    "\n",
    "master = Document(ArchivoWordBlanco)\n",
    "composer  = Composer(master)"
   ]
  },
  {
   "cell_type": "code",
   "execution_count": null,
   "metadata": {
    "id": "d3X1wQmFjqKb"
   },
   "outputs": [],
   "source": [
    "#Se consolida todos los words en uno solo y se guarda en la carpeta que se seleccione\n",
    "import os\n",
    "from pathlib import Path\n",
    "\n",
    "root_dir = Archivos\n",
    "root = Path(root_dir)\n",
    "contenido = os.listdir(Archivos)\n",
    "\n",
    "for i in root.rglob('[!.]*.docx'):\n",
    "    #print(i)\n",
    "  docu = Document(i)\n",
    "  composer.append(docu)\n",
    "  composer.save(ArchivoWordConsolidado+\"/Consolidado.docx\")"
   ]
  },
  {
   "cell_type": "code",
   "execution_count": null,
   "metadata": {
    "id": "cM2lYhKPl2ks"
   },
   "outputs": [],
   "source": [
    "#Se crean las tablas en excel para mejorar su manipulación\n",
    "from docx import Document\n",
    "import pandas as pd\n",
    "\n",
    "document = Document(ArchivoWordConsolidado+\"/Consolidado.docx\")\n",
    "\n",
    "tables = []\n",
    "for index,table in enumerate(document.tables):\n",
    "    df = [['' for i in range(len(table.columns))] for j in range(len(table.rows))]\n",
    "    for i, row in enumerate(table.rows):\n",
    "        for j, cell in enumerate(row.cells):\n",
    "            df[i][j] = cell.text\n",
    "        pd.DataFrame(df).to_excel(ArchivosExcel+\"/\"+\"Table# \"+str(index)+\".xlsx\")"
   ]
  },
  {
   "cell_type": "code",
   "execution_count": null,
   "metadata": {
    "id": "aBtDDbSRl8XR"
   },
   "outputs": [],
   "source": [
    "#Se seleccionan todos los excel de la carpeta\n",
    "from pathlib import Path\n",
    "\n",
    "root_dir = ArchivosExcel\n",
    "root = Path(root_dir)\n",
    "\n",
    "df_todo = pd.DataFrame({},columns=[])\n",
    "for datafile in root.rglob('[!.]*.xlsx'):\n",
    "    file = datafile\n",
    "    data_excel = pd.read_excel(file,sheet_name=\"Sheet1\")\n",
    "    df_todo=pd.concat([df_todo,data_excel],axis=0)"
   ]
  },
  {
   "cell_type": "code",
   "execution_count": null,
   "metadata": {
    "colab": {
     "base_uri": "https://localhost:8080/"
    },
    "executionInfo": {
     "elapsed": 403,
     "status": "ok",
     "timestamp": 1624044858197,
     "user": {
      "displayName": "VICTOR ORLANDO VALENZUELA ERAZO",
      "photoUrl": "",
      "userId": "18189953888724504303"
     },
     "user_tz": 300
    },
    "id": "5R6hoAwdl_Qa",
    "outputId": "7795dc0d-8262-4eaf-9045-cb3fa0e71ddc"
   },
   "outputs": [],
   "source": [
    "df = pd.DataFrame(df_todo.values)"
   ]
  },
  {
   "cell_type": "code",
   "execution_count": null,
   "metadata": {},
   "outputs": [],
   "source": [
    "df.head()"
   ]
  },
  {
   "cell_type": "code",
   "execution_count": null,
   "metadata": {
    "id": "KnKBfNfEmRKH"
   },
   "outputs": [],
   "source": [
    "df = df.drop(df[df[2].str.contains('Fecha', na=False)].index)\n",
    "df = df.drop(df[df[2].str.contains('Proyecto:', na=False)].index)\n",
    "df = df.drop(df[df[2].str.contains('Unidad', na=False)].index)\n",
    "df = df.drop(df[df[2].str.contains('Nota', na=False)].index)\n",
    "df = df.drop(df[df[2].str.contains('Justificación', na=False)].index)\n",
    "df = df.drop(df[df[2].str.contains('Motivo', na=False)].index)\n",
    "df = df.drop(df[df[2].str.contains('TI', na=False)].index)\n",
    "df = df.drop(df[df[2].str.contains('SOLICITUD', na=False)].index)\n",
    "df = df.drop([7],axis=1)\n",
    "df = df.drop([8],axis=1)\n",
    "df = df.drop([9],axis=1)\n",
    "df = df.drop([10],axis=1)"
   ]
  },
  {
   "cell_type": "code",
   "execution_count": null,
   "metadata": {},
   "outputs": [],
   "source": [
    "df = df.reset_index()"
   ]
  },
  {
   "cell_type": "code",
   "execution_count": null,
   "metadata": {
    "id": "6NkcXYY7mney"
   },
   "outputs": [],
   "source": [
    "df.columns = df.iloc[0]"
   ]
  },
  {
   "cell_type": "code",
   "execution_count": null,
   "metadata": {
    "colab": {
     "base_uri": "https://localhost:8080/",
     "height": 422
    },
    "executionInfo": {
     "elapsed": 404,
     "status": "ok",
     "timestamp": 1624044895128,
     "user": {
      "displayName": "VICTOR ORLANDO VALENZUELA ERAZO",
      "photoUrl": "",
      "userId": "18189953888724504303"
     },
     "user_tz": 300
    },
    "id": "-YIrmIWCm02x",
    "outputId": "da730449-0415-496e-9102-324998a60aca",
    "scrolled": true
   },
   "outputs": [],
   "source": [
    "df.head()"
   ]
  },
  {
   "cell_type": "code",
   "execution_count": null,
   "metadata": {
    "id": "FoLmxZV9m3wC"
   },
   "outputs": [],
   "source": [
    "df = df.drop(df[df['Comentario'].str.contains('Comentario', na=False)].index)\n",
    "df = df.drop(df.columns[[0, 1]], axis='columns')"
   ]
  },
  {
   "cell_type": "code",
   "execution_count": null,
   "metadata": {
    "id": "WLzULwyzm7ZB"
   },
   "outputs": [],
   "source": [
    "df.reset_index(drop=True)\n",
    "df.to_excel(ArchivoExcelFinal+\"/Final.xlsx\", index=False)"
   ]
  },
  {
   "cell_type": "code",
   "execution_count": null,
   "metadata": {},
   "outputs": [],
   "source": []
  }
 ],
 "metadata": {
  "colab": {
   "authorship_tag": "ABX9TyNASmaQgrcJBJ7XBCfwBCIk",
   "name": "Consolidar_Word_Standard.ipynb",
   "provenance": []
  },
  "kernelspec": {
   "display_name": "Python 3",
   "language": "python",
   "name": "python3"
  },
  "language_info": {
   "codemirror_mode": {
    "name": "ipython",
    "version": 3
   },
   "file_extension": ".py",
   "mimetype": "text/x-python",
   "name": "python",
   "nbconvert_exporter": "python",
   "pygments_lexer": "ipython3",
   "version": "3.8.3"
  }
 },
 "nbformat": 4,
 "nbformat_minor": 1
}
